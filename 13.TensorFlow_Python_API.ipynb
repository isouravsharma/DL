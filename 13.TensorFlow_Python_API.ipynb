{
  "nbformat": 4,
  "nbformat_minor": 0,
  "metadata": {
    "colab": {
      "provenance": []
    },
    "kernelspec": {
      "name": "python3",
      "display_name": "Python 3"
    },
    "language_info": {
      "name": "python"
    }
  },
  "cells": [
    {
      "cell_type": "code",
      "execution_count": null,
      "metadata": {
        "id": "YdMU0DniZc8p"
      },
      "outputs": [],
      "source": []
    },
    {
      "cell_type": "markdown",
      "source": [
        "What is Tensoflow?\n",
        "- Tensorflow is an open-source framework developed by Google use for AI, ML DL."
      ],
      "metadata": {
        "id": "4eUYmIg6ZgbW"
      }
    },
    {
      "cell_type": "markdown",
      "source": [
        "**TensorFlow Python API**\n",
        "* tensorflow - The core package for low-level operations\n",
        "* tensorflow.keras - A high-level API for building neural networks\n",
        "* tensorflow.data - Helps you with data input pipelines\n",
        "* tensorflow.estimator - A more scalable API for production-level tasks\n",
        "* tensorflow_hub - For reusable machine learning modules"
      ],
      "metadata": {
        "id": "dGLx61OEZ2C3"
      }
    },
    {
      "cell_type": "code",
      "source": [
        "# tensorflow API\n",
        "import tensorflow as tf\n",
        "a = tf.constant([1,2,3])\n",
        "b = tf.constant([4,5,6])\n",
        "result = tf.add(a,b)\n",
        "print(result)\n"
      ],
      "metadata": {
        "colab": {
          "base_uri": "https://localhost:8080/"
        },
        "id": "vNia3z3fZyuu",
        "outputId": "ea2f4156-1dda-4a82-a652-3e7ec27b767e"
      },
      "execution_count": 3,
      "outputs": [
        {
          "output_type": "stream",
          "name": "stdout",
          "text": [
            "tf.Tensor([5 7 9], shape=(3,), dtype=int32)\n"
          ]
        }
      ]
    },
    {
      "cell_type": "markdown",
      "source": [],
      "metadata": {
        "id": "imU585umZ2EJ"
      }
    },
    {
      "cell_type": "code",
      "source": [
        "# Tensorflow Keras APU\n",
        "from tensorflow.keras.models import Sequential\n",
        "from tensorflow.keras.layers import Dense\n",
        "\n",
        "model = Sequential([\n",
        "    Dense(units=64, activation='relu', input_dim=100),\n",
        "    Dense(units=10, activation='softmax')\n",
        "])\n",
        "\n",
        "model.compile(loss='categorical_crossentropy',\n",
        "              optimizer='sgd',\n",
        "              metrics=['accuracy'])\n",
        "\n"
      ],
      "metadata": {
        "id": "PwFfKUUaafey"
      },
      "execution_count": 5,
      "outputs": []
    },
    {
      "cell_type": "code",
      "source": [
        "# Tensorflow data API\n",
        "import tensorflow as tf\n",
        "dataset = tf.data.Dataset.from_tensor_slices(([1,2,3,4]))\n",
        "dataset = dataset.batch(2)\n",
        "\n",
        "for batch in dataset:\n",
        "    print(batch)"
      ],
      "metadata": {
        "colab": {
          "base_uri": "https://localhost:8080/"
        },
        "id": "U3ux6K07aswD",
        "outputId": "c6c3675f-dd2b-4627-8286-174db9aadb5a"
      },
      "execution_count": 7,
      "outputs": [
        {
          "output_type": "stream",
          "name": "stdout",
          "text": [
            "tf.Tensor([1 2], shape=(2,), dtype=int32)\n",
            "tf.Tensor([3 4], shape=(2,), dtype=int32)\n"
          ]
        }
      ]
    },
    {
      "cell_type": "code",
      "source": [
        "# Tensorflow Estimator API\n",
        "# from tensorflow.estimator import Estimator\n",
        "\n",
        "# def model_fn(features, labels, mode):\n",
        "#     # Define your model function here\n",
        "#     pass\n",
        "\n",
        "# classifier = Estimator(model_fn=model_fn)\n"
      ],
      "metadata": {
        "id": "iS58-rJQa_Tq"
      },
      "execution_count": 10,
      "outputs": []
    },
    {
      "cell_type": "code",
      "source": [
        "# Tensorflow  hub API\n",
        "import tensorflow_hub as hub\n",
        "\n",
        "model = hub.KerasLayer(\"https://tfhub.dev/google/imagenet/resnet_v2_50/feature_vector/4\")\n"
      ],
      "metadata": {
        "id": "ShvxqR_GbPWH"
      },
      "execution_count": 11,
      "outputs": []
    },
    {
      "cell_type": "code",
      "source": [
        "# tensorflow Lite API\n",
        "\n",
        "import tensorflow as tf\n",
        "\n",
        "# model = tf.keras.models.load_model('my_model.h5')\n",
        "# converter = tf.lite.TFLiteConverter.from_keras_model(model)\n",
        "# tflite_model = converter.convert()\n"
      ],
      "metadata": {
        "id": "T7rkdgWJbrER"
      },
      "execution_count": 13,
      "outputs": []
    },
    {
      "cell_type": "code",
      "source": [],
      "metadata": {
        "id": "U0yF99j-bzg6"
      },
      "execution_count": null,
      "outputs": []
    },
    {
      "cell_type": "markdown",
      "source": [
        "**To summarize, we covered:**\n",
        "\n",
        "* tensorflow: Low-level API for tensor operations\n",
        "* tensorflow.keras: High-level API for building neural networks\n",
        "* tensorflow.data: For data input pipelines\n",
        "* tensorflow.estimator: Scalable API for production-level tasks\n",
        "* tensorflow_hub: Pre-trained models for reuse\n",
        "* tensorflow.lite: Deploying models on mobile and edge devices"
      ],
      "metadata": {
        "id": "IKWXUqkxb6JA"
      }
    },
    {
      "cell_type": "code",
      "source": [],
      "metadata": {
        "id": "Oh2c0cV6cEO-"
      },
      "execution_count": null,
      "outputs": []
    }
  ]
}